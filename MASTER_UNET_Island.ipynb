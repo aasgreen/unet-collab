{
  "nbformat": 4,
  "nbformat_minor": 0,
  "metadata": {
    "colab": {
      "name": "MASTER-UNET-Island.ipynb",
      "provenance": [],
      "collapsed_sections": [],
      "toc_visible": true,
      "include_colab_link": true
    },
    "kernelspec": {
      "name": "python3",
      "display_name": "Python 3"
    }
  },
  "cells": [
    {
      "cell_type": "markdown",
      "metadata": {
        "id": "view-in-github",
        "colab_type": "text"
      },
      "source": [
        "<a href=\"https://colab.research.google.com/github/aasgreen/unet-collab/blob/master/MASTER_UNET_Island.ipynb\" target=\"_parent\"><img src=\"https://colab.research.google.com/assets/colab-badge.svg\" alt=\"Open In Colab\"/></a>"
      ]
    },
    {
      "cell_type": "code",
      "metadata": {
        "id": "f85IkSgkFSYg",
        "colab_type": "code",
        "colab": {
          "base_uri": "https://localhost:8080/",
          "height": 167
        },
        "outputId": "e2cb8a6d-3455-413e-c6a3-bb992ebc11e5"
      },
      "source": [
        "! pip install torch\n",
        "! pip install torchvision\n",
        "! git clone\n"
      ],
      "execution_count": null,
      "outputs": [
        {
          "output_type": "stream",
          "text": [
            "Requirement already satisfied: torch in /usr/local/lib/python3.6/dist-packages (1.5.1+cu101)\n",
            "Requirement already satisfied: future in /usr/local/lib/python3.6/dist-packages (from torch) (0.16.0)\n",
            "Requirement already satisfied: numpy in /usr/local/lib/python3.6/dist-packages (from torch) (1.18.5)\n",
            "Requirement already satisfied: torchvision in /usr/local/lib/python3.6/dist-packages (0.6.1+cu101)\n",
            "Requirement already satisfied: numpy in /usr/local/lib/python3.6/dist-packages (from torchvision) (1.18.5)\n",
            "Requirement already satisfied: pillow>=4.1.1 in /usr/local/lib/python3.6/dist-packages (from torchvision) (7.0.0)\n",
            "Requirement already satisfied: torch==1.5.1 in /usr/local/lib/python3.6/dist-packages (from torchvision) (1.5.1+cu101)\n",
            "Requirement already satisfied: future in /usr/local/lib/python3.6/dist-packages (from torch==1.5.1->torchvision) (0.16.0)\n"
          ],
          "name": "stdout"
        }
      ]
    },
    {
      "cell_type": "markdown",
      "metadata": {
        "id": "KKknbjurIKIl",
        "colab_type": "text"
      },
      "source": [
        "## Run this cell to mount google drive"
      ]
    },
    {
      "cell_type": "code",
      "metadata": {
        "id": "mJrWtO7rIIIU",
        "colab_type": "code",
        "colab": {}
      },
      "source": [
        "from google.colab import drive\n",
        "drive.mount('/content/drive')"
      ],
      "execution_count": null,
      "outputs": []
    },
    {
      "cell_type": "markdown",
      "metadata": {
        "id": "U6v9PZx4Gx3W",
        "colab_type": "text"
      },
      "source": [
        "# UNET Island Detection Test\n",
        "This notebook will be a proof of concept of how useful UNETS are for the problem of island detection in video microscopy"
      ]
    },
    {
      "cell_type": "code",
      "metadata": {
        "id": "LRQYTciYHHj2",
        "colab_type": "code",
        "colab": {}
      },
      "source": [
        ""
      ],
      "execution_count": null,
      "outputs": []
    },
    {
      "cell_type": "markdown",
      "metadata": {
        "id": "BBUDxsfMHLsC",
        "colab_type": "text"
      },
      "source": [
        "# Section 1: Generating Data\n",
        "1. Island data needs to be generated from training (ravin's program)\n",
        "2. Island data needs to be pre-segmented (all islands need to be labelled)\n",
        "3. We need to decide on the best way to label this (I think 0 for not an island, and 1 for an island will be fine)"
      ]
    },
    {
      "cell_type": "code",
      "metadata": {
        "id": "jkdd-bsjHNTO",
        "colab_type": "code",
        "colab": {}
      },
      "source": [
        ""
      ],
      "execution_count": null,
      "outputs": []
    },
    {
      "cell_type": "markdown",
      "metadata": {
        "id": "p3YvCL_hJ4la",
        "colab_type": "text"
      },
      "source": [
        "# Secion 2: Training a Simple UNET\n",
        "1. Get a simple CNN trained (to test out and debug pytorch)\n",
        "2. Figure out how the upsampling/padding will work for UNET\n",
        "3. Build a simple 'downsampler' CNN\n",
        "4. Add on to build an 'upsampler' side\n",
        "5. Train UNET on *data*"
      ]
    },
    {
      "cell_type": "code",
      "metadata": {
        "id": "XEgPE9JsKB1g",
        "colab_type": "code",
        "colab": {}
      },
      "source": [
        ""
      ],
      "execution_count": null,
      "outputs": []
    }
  ]
}