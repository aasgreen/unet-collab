{
  "nbformat": 4,
  "nbformat_minor": 0,
  "metadata": {
    "colab": {
      "name": "MASTER-UNET-Island.ipynb",
      "provenance": [],
      "collapsed_sections": [],
      "toc_visible": true,
      "include_colab_link": true
    },
    "kernelspec": {
      "name": "python3",
      "display_name": "Python 3"
    }
  },
  "cells": [
    {
      "cell_type": "markdown",
      "metadata": {
        "id": "view-in-github",
        "colab_type": "text"
      },
      "source": [
        "<a href=\"https://colab.research.google.com/github/aasgreen/unet-collab/blob/master/MASTER_UNET_Island.ipynb\" target=\"_parent\"><img src=\"https://colab.research.google.com/assets/colab-badge.svg\" alt=\"Open In Colab\"/></a>"
      ]
    },
    {
      "cell_type": "markdown",
      "metadata": {
        "id": "OyfARN51Zkr6",
        "colab_type": "text"
      },
      "source": [
        "# Setup"
      ]
    },
    {
      "cell_type": "markdown",
      "metadata": {
        "id": "KKknbjurIKIl",
        "colab_type": "text"
      },
      "source": [
        "### Mounting Google Drive"
      ]
    },
    {
      "cell_type": "code",
      "metadata": {
        "id": "mJrWtO7rIIIU",
        "colab_type": "code",
        "colab": {
          "base_uri": "https://localhost:8080/",
          "height": 131
        },
        "outputId": "ec78dbbb-386d-4178-bec7-4c2a545f02f3"
      },
      "source": [
        "from google.colab import drive\n",
        "drive.mount('/content/drive')"
      ],
      "execution_count": 1,
      "outputs": [
        {
          "output_type": "stream",
          "text": [
            "Go to this URL in a browser: https://accounts.google.com/o/oauth2/auth?client_id=947318989803-6bn6qk8qdgf4n4g3pfee6491hc0brc4i.apps.googleusercontent.com&redirect_uri=urn%3aietf%3awg%3aoauth%3a2.0%3aoob&response_type=code&scope=email%20https%3a%2f%2fwww.googleapis.com%2fauth%2fdocs.test%20https%3a%2f%2fwww.googleapis.com%2fauth%2fdrive%20https%3a%2f%2fwww.googleapis.com%2fauth%2fdrive.photos.readonly%20https%3a%2f%2fwww.googleapis.com%2fauth%2fpeopleapi.readonly\n",
            "\n",
            "Enter your authorization code:\n",
            "··········\n",
            "Mounted at /content/drive\n"
          ],
          "name": "stdout"
        }
      ]
    },
    {
      "cell_type": "markdown",
      "metadata": {
        "id": "3vEwVOrtan0C",
        "colab_type": "text"
      },
      "source": [
        "(Important: Make sure your google drive has a folder named UNETFolder before running)"
      ]
    },
    {
      "cell_type": "code",
      "metadata": {
        "id": "VK-zJU4OZgIY",
        "colab_type": "code",
        "colab": {
          "base_uri": "https://localhost:8080/",
          "height": 36
        },
        "outputId": "f4727ed2-219b-44ef-f868-a32ee0700d3c"
      },
      "source": [
        "%cd \"/content/drive/My Drive/UNETFolder\""
      ],
      "execution_count": 2,
      "outputs": [
        {
          "output_type": "stream",
          "text": [
            "/content/drive/My Drive/UNETFolder\n"
          ],
          "name": "stdout"
        }
      ]
    },
    {
      "cell_type": "code",
      "metadata": {
        "id": "dO5fa7FIZsQh",
        "colab_type": "code",
        "colab": {
          "base_uri": "https://localhost:8080/",
          "height": 36
        },
        "outputId": "5ee2cb09-9a89-4ced-e77f-36e8ce9b4ce0"
      },
      "source": [
        "!git clone --single-branch --branch unetIsland https://github.com/chowravc/circleSim\n",
        "!cp circleSim/*.py ./\n",
        "from main import *"
      ],
      "execution_count": 10,
      "outputs": [
        {
          "output_type": "stream",
          "text": [
            "fatal: destination path 'circleSim' already exists and is not an empty directory.\n"
          ],
          "name": "stdout"
        }
      ]
    },
    {
      "cell_type": "code",
      "metadata": {
        "id": "f85IkSgkFSYg",
        "colab_type": "code",
        "colab": {
          "base_uri": "https://localhost:8080/",
          "height": 54
        },
        "outputId": "60b9b683-244f-4d29-db2a-be7b202c684c"
      },
      "source": [
        "generateImages(258,258,1,10,4,15,10)\n"
      ],
      "execution_count": 11,
      "outputs": [
        {
          "output_type": "stream",
          "text": [
            "Time taken for 10 images: datetime.timedelta(0, 0, 676848)\n",
            "Time per image: datetime.timedelta(0, 0, 67685)\n"
          ],
          "name": "stdout"
        }
      ]
    },
    {
      "cell_type": "code",
      "metadata": {
        "id": "DcHpFHUMbecb",
        "colab_type": "code",
        "colab": {
          "base_uri": "https://localhost:8080/",
          "height": 73
        },
        "outputId": "4aee44e1-3a40-456f-edea-a2d7435df6c7"
      },
      "source": [
        "!ls output/"
      ],
      "execution_count": 13,
      "outputs": [
        {
          "output_type": "stream",
          "text": [
            "img_10.jpg  img_1.txt  img_3.jpg  img_4.txt  img_6.jpg\timg_7.txt  img_9.jpg\n",
            "img_10.txt  img_2.jpg  img_3.txt  img_5.jpg  img_6.txt\timg_8.jpg  img_9.txt\n",
            "img_1.jpg   img_2.txt  img_4.jpg  img_5.txt  img_7.jpg\timg_8.txt\n"
          ],
          "name": "stdout"
        }
      ]
    },
    {
      "cell_type": "markdown",
      "metadata": {
        "id": "U6v9PZx4Gx3W",
        "colab_type": "text"
      },
      "source": [
        "# UNET Island Detection Test\n",
        "This notebook will be a proof of concept of how useful UNETS are for the problem of island detection in video microscopy"
      ]
    },
    {
      "cell_type": "code",
      "metadata": {
        "id": "LRQYTciYHHj2",
        "colab_type": "code",
        "colab": {}
      },
      "source": [
        ""
      ],
      "execution_count": null,
      "outputs": []
    },
    {
      "cell_type": "markdown",
      "metadata": {
        "id": "BBUDxsfMHLsC",
        "colab_type": "text"
      },
      "source": [
        "# Section 1: Generating Data\n",
        "1. Island data needs to be generated from training (ravin's program)\n",
        "2. Island data needs to be pre-segmented (all islands need to be labelled)\n",
        "3. We need to decide on the best way to label this (I think 0 for not an island, and 1 for an island will be fine)"
      ]
    },
    {
      "cell_type": "code",
      "metadata": {
        "id": "5EDAgMZEags5",
        "colab_type": "code",
        "colab": {}
      },
      "source": [
        "%cd \"circleSim\""
      ],
      "execution_count": null,
      "outputs": []
    },
    {
      "cell_type": "code",
      "metadata": {
        "id": "jkdd-bsjHNTO",
        "colab_type": "code",
        "colab": {}
      },
      "source": [
        "from main import *"
      ],
      "execution_count": null,
      "outputs": []
    },
    {
      "cell_type": "code",
      "metadata": {
        "id": "RNx_7zmIaDbX",
        "colab_type": "code",
        "colab": {}
      },
      "source": [
        "height = 572\n",
        "width = 572\n",
        "\n",
        "minCircles = 20\n",
        "maxCircles = 40\n",
        "\n",
        "minRadius = 10\n",
        "maxRadius = 40\n",
        "\n",
        "numImages = 50"
      ],
      "execution_count": null,
      "outputs": []
    },
    {
      "cell_type": "code",
      "metadata": {
        "id": "LA4hjmAzaawY",
        "colab_type": "code",
        "colab": {}
      },
      "source": [
        "generateImages(height, width, minCircles, maxCircles, minRadius, maxRadius, numImages)"
      ],
      "execution_count": null,
      "outputs": []
    },
    {
      "cell_type": "code",
      "metadata": {
        "id": "yuR71HDrahU-",
        "colab_type": "code",
        "colab": {}
      },
      "source": [
        "%cd .."
      ],
      "execution_count": null,
      "outputs": []
    },
    {
      "cell_type": "markdown",
      "metadata": {
        "id": "p3YvCL_hJ4la",
        "colab_type": "text"
      },
      "source": [
        "# Secion 2: Training a Simple UNET\n",
        "1. Get a simple CNN trained (to test out and debug pytorch)\n",
        "2. Figure out how the upsampling/padding will work for UNET\n",
        "3. Build a simple 'downsampler' CNN\n",
        "4. Add on to build an 'upsampler' side\n",
        "5. Train UNET on *data*"
      ]
    },
    {
      "cell_type": "code",
      "metadata": {
        "id": "XEgPE9JsKB1g",
        "colab_type": "code",
        "colab": {}
      },
      "source": [
        ""
      ],
      "execution_count": null,
      "outputs": []
    }
  ]
}